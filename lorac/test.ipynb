{
 "cells": [
  {
   "cell_type": "code",
   "execution_count": 1,
   "metadata": {},
   "outputs": [
    {
     "name": "stderr",
     "output_type": "stream",
     "text": [
      "/home/featurize/work/lorac/lib/python3.10/site-packages/tqdm/auto.py:21: TqdmWarning: IProgress not found. Please update jupyter and ipywidgets. See https://ipywidgets.readthedocs.io/en/stable/user_install.html\n",
      "  from .autonotebook import tqdm as notebook_tqdm\n"
     ]
    }
   ],
   "source": [
    "import copy\n",
    "import torch\n",
    "from transformers import AutoModelForCausalLM, AutoTokenizer, DynamicCache, StaticCache\n",
    "from peft import PeftModel\n",
    "torch.cuda.empty_cache()\n",
    "model_name = \"meta-llama/Llama-2-7b-hf\"\n",
    "lora_name = [\"iamshnoo/alpaca-2-7b-english\",\"iamshnoo/alpaca-2-7b-chinese\",\"jb-01/llama-2-7b-ai2-arc\"]\n",
    "model_path = \"/home/featurize/work/Lorac_recom/models/\" \n",
    "lora_path= [\"/home/featurize/work/Lorac_recom/lora_models/lora1\",\n",
    "            \"/home/featurize/work/Lorac_recom/lora_models/lora2\",\n",
    "            \"/home/featurize/work/Lorac_recom/lora_models/lora3\"]"
   ]
  },
  {
   "cell_type": "code",
   "execution_count": 2,
   "metadata": {},
   "outputs": [],
   "source": [
    "def B_inverse_weight(model,num_layers):\n",
    "    W_b=[]\n",
    "    W_b_inver =[]\n",
    "    state_dict = model.state_dict()\n",
    "    for i in range(num_layers):\n",
    "        layer_key = f'base_model.model.model.layers.{i}.self_attn.v_proj.lora_B.default.weight'\n",
    "        layer_B = state_dict[layer_key]\n",
    "        W_b.append(layer_B)\n",
    "        layer_B_inverse = torch.linalg.pinv(layer_B)\n",
    "        W_b_inver.append(layer_B_inverse)\n",
    "    return W_b,W_b_inver\n",
    "def get_v_cache(kv_cache):\n",
    "    v_cache=[]\n",
    "    for layer_idx, (key, value) in enumerate(kv_cache):\n",
    "        v_cache.append(value.permute(0, 1, 3, 2).reshape(1, 4096, -1))\n",
    "    return v_cache\n",
    "def compute_miniKV(main_KV, merged_KV, B_inverse_weight):\n",
    "    mini_Vs=[]\n",
    "    merged_V = get_v_cache(merged_KV)\n",
    "    main_V = get_v_cache(main_KV)\n",
    "    res_V = [merged_V[i]- main_V[i] for i in range(len(merged_V))]\n",
    "    # print(len(main_V),main_V[0].shape)\n",
    "    # print(len(merged_V),merged_V[0].shape)\n",
    "    for i in range(len(res_V)):\n",
    "        # print(res_v[i].dtype)\n",
    "        mini_V = torch.matmul(B_inverse_weight[i].to(torch.float32),res_V[i]) \n",
    "        mini_Vs.append(mini_V)\n",
    "    return mini_Vs\n",
    "def recompute(kv_cache,W_B):\n",
    "    re_caches=[]\n",
    "    for i in range(len(kv_cache)):\n",
    "        re_cache=torch.matmul(W_B[i].to(torch.float32),kv_cache[i]).view(1,32,128,-1).permute(0, 1, 3, 2) #1,64,4    4096,64 = [1,4096,4]   -> [1, 32, 4, 128]\n",
    "        re_caches.append(re_cache)\n",
    "    return re_caches\n",
    "def tuple_to_list(kv_tuple):\n",
    "    main_kv_list = [list(item) for item in kv_tuple]\n",
    "    return main_kv_list\n",
    "\n",
    "def list_to_tuple(kv_list):\n",
    "    main_kv_tuple =tuple(tuple(item) for item in kv_list)\n",
    "    return main_kv_tuple\n",
    "def get_re_mergeKV(W_B,kv_cache,main_kv):\n",
    "    re_v_cache = recompute(kv_cache,W_B)\n",
    "    main_kv = tuple_to_list(main_kv)\n",
    "    for i in range(len(main_kv)):\n",
    "        main_kv[i][1]+=re_v_cache[i]\n",
    "    main_kv = list_to_tuple(main_kv)\n",
    "    main_kv = DynamicCache.from_legacy_cache(main_kv)\n",
    "    return main_kv"
   ]
  },
  {
   "cell_type": "code",
   "execution_count": 3,
   "metadata": {},
   "outputs": [],
   "source": [
    "torch.cuda.empty_cache()"
   ]
  },
  {
   "cell_type": "code",
   "execution_count": null,
   "metadata": {},
   "outputs": [],
   "source": [
    "SYSTEM_PROMPT=\"You are a helpful assistant. \""
   ]
  },
  {
   "cell_type": "code",
   "execution_count": 5,
   "metadata": {},
   "outputs": [
    {
     "name": "stderr",
     "output_type": "stream",
     "text": [
      "Loading checkpoint shards: 100%|██████████| 3/3 [01:02<00:00, 20.93s/it]\n"
     ]
    }
   ],
   "source": [
    "model = AutoModelForCausalLM.from_pretrained(model_path, torch_dtype=torch.float32, device_map=\"cuda\")\n",
    "tokenizer = AutoTokenizer.from_pretrained(model_path)"
   ]
  },
  {
   "cell_type": "code",
   "execution_count": 5,
   "metadata": {},
   "outputs": [],
   "source": [
    "SYSTEM_PROMPT=\"\"\" Donald Trump’s pick for defense secretary, was defiant Wednesday in the face of doubts that he can win confirmation as he met with Republican lawmakers and sought to address concerns about a series of misconduct allegations.\n",
    "\n",
    "Hegseth vowed to “fight like hell” to win confirmation — and told at least one GOP senator he would quit drinking alcohol if he gets the job.\n",
    "\n",
    "The veteran and former Fox News host’s bid to overcome questions among some Republicans comes amid reports that Trump’s team is already considering other options to lead the Pentagon.\n",
    "\n",
    "Hegseth said he spoke to Trump on Wednesday and still has the president-elect’s support.\n",
    "\n",
    "In an interview with conservative radio host Megyn Kelly, Hegseth said that Trump told him, “Hey Pete, I got your back. It’s a fight. They’re coming after you. Get after it.”\n",
    "\n",
    "Hegseth will need to limit defections to three GOP senators, assuming all Democrats vote against him, and as of Tuesday night, there were more than three Republicans who were uncertain if they’d back him.\n",
    "\n",
    "He told reporters on Wednesday after meeting with incoming GOP Senate leader John Thune, “We’re not going anywhere.”\n",
    "\n",
    "However, a number of GOP senators were not yet ready to say whether they would vote to confirm Hegseth. Iowa Sen. Joni Ernst, a combat veteran whom colleagues have floated as another potential pick for defense secretary, met for 45 minutes with Hegseth on Wednesday afternoon, but would only say after their meeting that it was “frank and thorough.”\n",
    "\n",
    "West Virginia Sen. Shelley Moore Capito said her meeting with Hegseth went well, but she had not yet decided whether she would vote to confirm him.\n",
    "\n",
    "She said she and Hegseth “got into the personal issues” surrounding the Pentagon pick, saying, “There’s still probably some questions to be asked there, and I’m sure other members are asking him that.”\n",
    "\n",
    "Alaska Sen. Lisa Murkowski — who, along with fellow GOP moderate Susan Collins of Maine, is expected to meet with Hegseth next week — said she “absolutely” plans to address the allegations against him.\n",
    "\n",
    "“I think I would be remiss if I didn’t speak about what everybody’s speaking about,” said Murkowski.\n",
    "\n",
    "A senior transition official told CNN Hegseth faced blunt questions from members, citing media headlines, with his wife sitting beside him. “Pete was an open book, in some cases with material evidence from the time in question,” the official said.\n",
    "\n",
    "Because of the volume of allegations and media coverage from his prior roles at veterans’ organizations and at Fox News, the conversations with members focused first on a character study without delving into fine detail about how he would manage the Pentagon, but there were high-level conversations about his general approach to the agency.\n",
    "\n",
    "Rather than leaning into controversial policies he has supported, such as banning women from combat roles, Hegseth told senators that his aim is to “make this military lethal again,” the official said.\n",
    "\n",
    "Still, nearly every meeting included a discussion about the role of women in combat, with Hegseth focusing on the need to ensure the “highest possible standards” are in place for the military’s success.\n",
    "\n",
    "Misconduct allegations\n",
    "Hegseth told Kelly that he has not directly responded to the allegations of misconduct, including a sexual assault allegation from 2017, which he has denied and in which no charges were filed, because he didn’t want to “respond to things that don’t merit response.” However, he said he now plans to “do more talking.”\n",
    "\n",
    "“The media’s driving forward with this ridiculous narrative. It’s our turn, it’s our time, to stand up and tell the truth, and our side,” Hegseth said. “And he knows that,” he added, referring to Trump.\n",
    "\n",
    "Hegseth told Kelly he paid a settlement to his accuser — which his attorney told CNN last month included a confidentiality clause — because he thought at the time he “had to.”\n",
    "\n",
    "“I did it to protect my family, and I did it to protect my job,” he said, adding that he would not disclose how much he’d paid in the settlement.\n",
    "\n",
    "He said characterizing him as a serial cheater would have been fair in the past, but that he was changed by his wife and his faith.\n",
    "\n",
    "“Am I a perfect man? No. Was I a perfect man? Absolutely not. Do I regret those things? Yes. Is it who I am today? No,” Hegseth said. “And I’m just grateful for the grace of God, that gives me a new chapter.”\n",
    "\n",
    "He also said he “can’t wait” for an FBI background check.\n",
    "\n",
    "“How soon can they start?” he said. “Because that gives me an opportunity for them to do a real investigation. So what the media is doing right now is a witch hunt. It’s trial by false accusation and lies. The FBI is going to look through, and if they do their job properly, which I fully expect they will, they’ll talk to everybody and get the full story and a full understanding. That’s a report I welcome.”\n",
    "\n",
    "Timothy Parlatore, Hegseth’s attorney, told CNN’s Jake Tapper on “The Lead” Wednesday that the allegations against Hegseth are “anonymous” and claimed they cannot be corroborated.\n",
    "\n",
    "“You have a few anonymous people saying it, and yet people come on the record saying, this is my name, this never happened,” Parlatore said, describing what he said was a pattern.\n",
    "\n",
    "Parlatore acknowledged that Hegseth had been drinking at events, but claimed that “all these fake stories” are intended to derail his nomination.\n",
    "\n",
    "“Yes, Pete is not an angel. Yes, he has been out there partying a bit. He hasn’t done these things,” Parlatore said.\n",
    "\n",
    "In his interview with Kelly, Hegseth said “you’d be surprised” how little the misconduct allegations have come up in meetings with lawmakers. He said one senator on Wednesday morning compared the scrutiny he has faced to the Supreme Court nomination of Brett Kavanaugh.\n",
    "\n",
    "“We’re going to fight like hell. There’s no reason to back down. Why would we back down?” Hegseth said.\n",
    "\n",
    "He also told Kelly he has “never had a drinking problem,” has never sought help for drinking, and has never been approached by anyone who told him he should do so.\n",
    "\n",
    "“But, you know, what do guys do when they come back from war, oftentimes? Have some beers. How do you deal with the demons you see on the battlefield? Sometimes it’s with a bottle. … Thank God, by the grace of God, I found my chapters of purpose that pulled me out of that,” Hegseth said. “I’m a very different person than I was 10 years ago, than I was 15 years ago. But I’m also the right guy to be in the Pentagon, to understand what our young warfighters are going through.”\n",
    "\n",
    "On Wednesday night, The Washington Post reported that six former Fox News employees who worked directly with Hegseth said they had seen him drunk at work events and drink on the job. In one instance, the Post reported, Hegseth drank a series of beers that had been set up for a St. Patrick’s Day segment after it wrapped at 10 a.m., two former colleagues who witnessed the event told the newspaper. The segment, according to the Post, was “several years ago.”\n",
    "\n",
    "Fox declined to comment to the Post. Reached by CNN, a Fox News spokesperson referred to the response in the Post report that the network could not corroborate the details of the alleged St. Patrick’s Day incident.\n",
    "\n",
    "The Post also reported that some former employees at Concerned Veterans for America said they complained about wasted money at the veteran’s advocacy organization and that senior staff — including Hegseth — were excessively drinking, “and that Hegseth himself drank heavily and struggled to maintain order.” Other employees said they did not witness Hegseth excessively drinking and praised his leadership.\n",
    "\n",
    "In response to the Post report, Parlatore told CNN: “Both of these tales are false, as evidenced by the fact that nobody will put their name on it. There are plenty of people both at Fox News and CVA who have gone on the record today, without hiding behind anonymity, to debunk these false claims.”\n",
    "\n",
    "Vow to quit drinking\n",
    "Hegseth told incoming Senate Armed Services Chairman Roger Wicker that he would not drink if he is confirmed for the job.\n",
    "\n",
    "“He views the job as so important that he volunteered that,” the Mississippi Republican told CNN. “I didn’t ask him.” Wicker later told CNN’s Manu Raju that he was still undecided on whether he would support Hegseth, but added, “I’m looking to be supportive.”\n",
    "\n",
    "Another Republican senator, North Dakota’s Kevin Cramer, called Hegsth’s commitment not to drink “very encouraging.”\n",
    "\n",
    "“He has to assure people, he has to assure me, he’s not going to drink. I think most of his problems start with that line. And as I’ve said many times, I’m far too familiar with the consequences of substance abuse,” added Cramer, whose son suffered from liver and kidney failure and died in 2018.\n",
    "\n",
    "Earlier Wednesday, Hegseth’s mother, Penelope Hegseth, said in a Fox News interview that she regrets sending a 2018 email to her son accusing him of mistreating women, and urged female senators to support his confirmation.\n",
    "\n",
    "She said her son is “redeemed, forgiven, changed” in the years since she wrote the email, recently reported by The New York Times, in which she said there are “many” women whom he has “abused in some way.” She said her son is the right person to lead the Pentagon under the incoming Trump administration.\n",
    "\n",
    "She explained her decision to write the email by saying she wrote it “as a parent” and with “deep emotions” amid her son’s divorce, and said she wrote an apology email to her son later that same day.\n",
    "\n",
    "“I’m sure many of you across the country understand how difficult divorce is on a family. There’s emotions. We say things, and – I wrote that in haste. I wrote that with deep emotions. I wrote that as a parent,” Penelope Hegseth said. “Pete and I are both very passionate people. I wrote that out of love, and about two hours later, I retracted it with an apology email.”\n",
    "\n",
    "As he worked to save his chances of confirmation, Pete Hegseth also spent the day posting and reposting on X dozens of messages of support and hitting back at stories that have surfaced allegations against him. He also penned an op-ed in the The Wall Street Journal titled, “I’ve Faced Fire Before. I Won’t Back Down.”\n",
    "\n",
    "Hegseth digs in\n",
    "Hegseth told CNN “no” when asked Wednesday if he would withdraw. And some Republican senators said they are standing by him.\n",
    "\n",
    "Tennessee Sen. Bill Hagerty, who sat in on a meeting between Hegseth and members of the Republican Study Committee on Wednesday, said Trump’s pick “did a terrific job” during the meeting, and noted that the president-elect is continuing to support him.\n",
    "\n",
    "“He got overwhelming support, applause, everybody’s behind him,” Hagerty said.\n",
    "\n",
    "Pressed on reports that Trump is looking at other candidates for the role, Hagerty replied, “I just said, Pete spoke with President Trump this morning, President Trump told him he’s 100% behind him, and I have every reason to believe that’s exactly the case.”\n",
    "\n",
    "And Oklahoma GOP Sen. Markwayne Mullin told CNN’s Kaitlan Collins Wednesday night that Trump and Hegseth “are still both all in the fight.”\n",
    "\n",
    "However, another Republican senator, Missouri’s Josh Hawley, said he doesn’t know whether Hegseth should withdraw his name for consideration as defense secretary.\n",
    "\n",
    "“It’s not 100% clear who he wants as secretary of defense right now,” Hawley said of Trump.\n",
    "\n",
    "Hawley said Hegseth’s team canceled a meeting between him and the defense secretary pick that had been scheduled for Wednesday, but a Trump transition official says the Hawley meeting will be rescheduled to next week.\n",
    "\n",
    "“My view is that if the president wants him to be secretary of defense, then people ought to give him a shot. And my presumption is that I would support him, at the very least let him have his confirmation hearing,” Hawley said, adding, “he’ll answer all of those many, many more under oath, if he wants to, and the president wants to, wants him to, but I don’t know what the case is at this point.”\n",
    "\n",
    "The uncertainty over Hegseth’s future comes amid reports Trump is already weighing other options. Florida Gov. Ron DeSantis is interested in serving as defense secretary if formally offered the job, two sources close to DeSantis told CNN.\n",
    "\n",
    "DeSantis is one of a handful of names who have been floated to Trump as potential replacements. One of the sources told CNN that Trump and DeSantis have discussed the Florida governor potentially leading the Pentagon.\n",
    "\n",
    "Hegseth told Kelly that Trump told him to “clean house of the woke crap” at the Pentagon.\n",
    "\n",
    "“The climate stuff and the CRT and the DEI and the genderism and the trans — get rid of it. Let’s bring the Pentagon back to the people. The people’s Pentagon for warfighters,” he said. “And that’s the message that he gave to me that I’ve projected back to senators, and it resonates.”\n",
    "\n",
    "In a brief statement later Wednesday, Hegseth told reporters that it has “been edifying, a wonderful process to meet with senators and talk to them,” but he did not comment on the allegations of misconduct or concerns about his path to confirmation.\n",
    "\n",
    "“That’s what Donald Trump asked me to do: ‘Your job is to bring a war fighting ethos back to the Pentagon. Your job is to make sure that it’s lethality, lethality, lethality,’” Hegseth said.\n",
    "\n",
    "“Everything else is gone. Everything else that distracts from that shouldn’t be happening,” he said. “That’s the message I’m hearing from senators in that advice and consent process. It’s been a wonderful process.”\n",
    "\n",
    "This story and headline have been updated with additional information.\"\"\"\n"
   ]
  },
  {
   "cell_type": "code",
   "execution_count": 6,
   "metadata": {},
   "outputs": [],
   "source": [
    "SYSTEM_PROMPT = '''The University of Hong Kong (HKU) is a public research university in Pokfulam, Hong Kong. It was founded in 1887 as the Hong Kong College of Medicine for Chinese by the London Missionary Society and formally established as the University of Hong Kong in 1911. It is the oldest tertiary institution in Hong Kong.[6]\n",
    "\n",
    "The university was established and proposed by Governor Sir Frederick Lugard in an effort to compete with the other Great Powers opening universities in China. The university's governance consists of three bodies: the Court, the Council and the Senate. These three bodies all have their own separate roles. The Court acts as the overseeing and legislative body of the university, the Council acts as governing body of the University, and the Senate as the principal academic authority of the university.\n",
    "\n",
    "The university currently has ten academic faculties and 20 residential halls and colleges for its students, with English being its main medium of instruction and assessment.\n",
    "\n",
    "The university has educated many notable alumni in many fields. Among them is Dr Sun Yat-sen, the founder of the Republic of China, a graduate of the Hong Kong College of Medicine for Chinese, the predecessor of HKU. Notable alumni in the field of politics include Anson Chan, Carrie Lam, Jasper Tsang and Regina Ip.'''"
   ]
  },
  {
   "cell_type": "code",
   "execution_count": 7,
   "metadata": {},
   "outputs": [],
   "source": [
    "inputs_initial_prompt = tokenizer(SYSTEM_PROMPT, return_tensors=\"pt\").to(\"cuda\")\n",
    "base_cache =  DynamicCache()\n",
    "with torch.no_grad():\n",
    "     SYS_BASE_CACHE = copy.deepcopy(model(**inputs_initial_prompt, past_key_values = base_cache).past_key_values)"
   ]
  },
  {
   "cell_type": "code",
   "execution_count": 10,
   "metadata": {},
   "outputs": [],
   "source": [
    "num_layers = model.config.num_hidden_layers\n",
    "lora0_model = PeftModel.from_pretrained(model,lora_path[0], torch_dtype=torch.float32).to(\"cuda\")\n",
    "# W_B,W_inverB = B_inverse_weight(lora0_model,num_layers)\n",
    "# lora0_cache =  DynamicCache()\n",
    "# with torch.no_grad():\n",
    "#      SYS_L0_CACHE = copy.deepcopy(lora0_model(**inputs_initial_prompt, past_key_values = lora0_cache).past_key_values)\n",
    "# MINI_KV0=compute_miniKV(SYS_BASE_CACHE,SYS_L0_CACHE,W_inverB)\n",
    "# RE0_CACHE = recompute(MINI_KV0,W_B)\n",
    "# recom_kv= get_re_mergeKV(W_B,MINI_KV0,SYS_BASE_CACHE)"
   ]
  },
  {
   "cell_type": "code",
   "execution_count": 33,
   "metadata": {},
   "outputs": [
    {
     "data": {
      "text/plain": [
       "True"
      ]
     },
     "execution_count": 33,
     "metadata": {},
     "output_type": "execute_result"
    }
   ],
   "source": [
    "torch.allclose(recom_kv[31][1],SYS_L0_CACHE[31][1],atol=10)"
   ]
  },
  {
   "cell_type": "code",
   "execution_count": 12,
   "metadata": {},
   "outputs": [
    {
     "data": {
      "text/plain": [
       "torch.float32"
      ]
     },
     "execution_count": 12,
     "metadata": {},
     "output_type": "execute_result"
    }
   ],
   "source": [
    "W_B[0].dtype"
   ]
  },
  {
   "cell_type": "code",
   "execution_count": null,
   "metadata": {},
   "outputs": [
    {
     "data": {
      "text/plain": [
       "False"
      ]
     },
     "execution_count": 22,
     "metadata": {},
     "output_type": "execute_result"
    }
   ],
   "source": [
    "torch.allclose(W_B[0].to(torch.float32),W_B[0].to(torch.float32)@W_inverB[0].to(torch.float32)@W_B[0].to(torch.float32),atol=1e-4)"
   ]
  },
  {
   "cell_type": "code",
   "execution_count": 11,
   "metadata": {},
   "outputs": [],
   "source": [
    "lora0_prompt ='According to the above introduction of HKU'\n",
    "lora0_input = tokenizer(SYSTEM_PROMPT+lora0_prompt, return_tensors=\"pt\").to(\"cuda\")"
   ]
  },
  {
   "cell_type": "code",
   "execution_count": 8,
   "metadata": {},
   "outputs": [
    {
     "name": "stdout",
     "output_type": "stream",
     "text": [
      "The University of Hong Kong (HKU) is a public research university in Pokfulam, Hong Kong. It was founded in 1887 as the Hong Kong College of Medicine for Chinese by the London Missionary Society and formally established as the University of Hong Kong in 1911. It is the oldest tertiary institution in Hong Kong.[6]\n",
      "\n",
      "The university was established and proposed by Governor Sir Frederick Lugard in an effort to compete with the other Great Powers opening universities in China. The university's governance consists of three bodies: the Court, the Council and the Senate. These three bodies all have their own separate roles. The Court acts as the overseeing and legislative body of the university, the Council acts as governing body of the University, and the Senate as the principal academic authority of the university.\n",
      "\n",
      "The university currently has ten academic faculties and 20 residential halls and colleges for its students, with English being its main medium of instruction and assessment.\n",
      "\n",
      "The university has educated many notable alumni in many fields. Among them is Dr Sun Yat-sen, the founder of the Republic of China, a graduate of the Hong Kong College of Medicine for Chinese, the predecessor of HKU. Notable alumni in the field of politics include Anson Chan, Carrie Lam, Jasper Tsang and Regina Ip.According to the above introduction of HKU, we can find that HKU is a public research university in Hong Kong. It was founded in 1887 as the Hong Kong College of Medicine for Chinese by the London Missionary Society and formally established as the University of Hong Kong\n"
     ]
    }
   ],
   "source": [
    "lora0_prompt ='According to the above introduction of HKU'\n",
    "lora0_input = tokenizer(SYSTEM_PROMPT+lora0_prompt, return_tensors=\"pt\").to(\"cuda\")\n",
    "with torch.no_grad():\n",
    "    output_re = lora0_model.generate(**lora0_input, past_key_values=recom_kv,max_new_tokens=50)\n",
    "output_re_text = tokenizer.decode(output_re[0],skip_special_tokens=True)\n",
    "print(output_re_text)"
   ]
  },
  {
   "cell_type": "code",
   "execution_count": 12,
   "metadata": {},
   "outputs": [
    {
     "name": "stdout",
     "output_type": "stream",
     "text": [
      "You are a helpful assistant. Please introduce the University of Hong Kong to me.  I am a student from China.\n",
      "You're welcome! I'm glad to help.\n"
     ]
    }
   ],
   "source": [
    "with torch.no_grad():\n",
    "    output_re = lora0_model.generate(**lora0_input, past_key_values=SYS_L0_CACHE,max_new_tokens=20)\n",
    "output_cache_text = tokenizer.decode(output_re[0],skip_special_tokens=True)\n",
    "print(output_cache_text)"
   ]
  },
  {
   "cell_type": "code",
   "execution_count": 14,
   "metadata": {},
   "outputs": [
    {
     "name": "stdout",
     "output_type": "stream",
     "text": [
      "The University of Hong Kong (HKU) is a public research university in Pokfulam, Hong Kong. It was founded in 1887 as the Hong Kong College of Medicine for Chinese by the London Missionary Society and formally established as the University of Hong Kong in 1911. It is the oldest tertiary institution in Hong Kong.[6]\n",
      "\n",
      "The university was established and proposed by Governor Sir Frederick Lugard in an effort to compete with the other Great Powers opening universities in China. The university's governance consists of three bodies: the Court, the Council and the Senate. These three bodies all have their own separate roles. The Court acts as the overseeing and legislative body of the university, the Council acts as governing body of the University, and the Senate as the principal academic authority of the university.\n",
      "\n",
      "The university currently has ten academic faculties and 20 residential halls and colleges for its students, with English being its main medium of instruction and assessment.\n",
      "\n",
      "The university has educated many notable alumni in many fields. Among them is Dr Sun Yat-sen, the founder of the Republic of China, a graduate of the Hong Kong College of Medicine for Chinese, the predecessor of HKU. Notable alumni in the field of politics include Anson Chan, Carrie Lam, Jasper Tsang and Regina Ip.According to the above introduction of HKU, the university has a long history and it has a great influence in the world.\n",
      "\n",
      "## History\n",
      "\n",
      "The Hong Kong College of Medicine for Chinese, the predecessor of HKU, was founded in 1887 by\n"
     ]
    }
   ],
   "source": [
    "with torch.no_grad():\n",
    "    output_re = lora0_model.generate(**lora0_input,max_new_tokens=50)\n",
    "output_text = tokenizer.decode(output_re[0],skip_special_tokens=True)\n",
    "print(output_text)"
   ]
  },
  {
   "cell_type": "code",
   "execution_count": 14,
   "metadata": {},
   "outputs": [
    {
     "data": {
      "text/plain": [
       "torch.Size([1, 32, 8, 128])"
      ]
     },
     "execution_count": 14,
     "metadata": {},
     "output_type": "execute_result"
    }
   ],
   "source": [
    "a = SYS_L0_CACHE[0][1] - SYS_BASE_CACHE[0][1]\n",
    "a.shape"
   ]
  },
  {
   "cell_type": "code",
   "execution_count": 15,
   "metadata": {},
   "outputs": [
    {
     "data": {
      "text/plain": [
       "torch.float32"
      ]
     },
     "execution_count": 15,
     "metadata": {},
     "output_type": "execute_result"
    }
   ],
   "source": [
    "W_B[0].dtype"
   ]
  },
  {
   "cell_type": "code",
   "execution_count": 18,
   "metadata": {},
   "outputs": [],
   "source": [
    "b=a.permute(0, 1, 3, 2).reshape(1, 4096, -1)\n",
    "c =W_B[0]@W_inverB[0]@b\n",
    "d=c.view(1,32,128,-1).permute(0, 1, 3, 2)"
   ]
  },
  {
   "cell_type": "code",
   "execution_count": 29,
   "metadata": {},
   "outputs": [
    {
     "data": {
      "text/plain": [
       "True"
      ]
     },
     "execution_count": 29,
     "metadata": {},
     "output_type": "execute_result"
    }
   ],
   "source": [
    "torch.allclose(a,d,atol=1e-7)"
   ]
  },
  {
   "cell_type": "code",
   "execution_count": 31,
   "metadata": {},
   "outputs": [
    {
     "data": {
      "text/plain": [
       "True"
      ]
     },
     "execution_count": 31,
     "metadata": {},
     "output_type": "execute_result"
    }
   ],
   "source": [
    "re = d+SYS_BASE_CACHE[0][1]\n",
    "torch.allclose(SYS_L0_CACHE[0][1],re,atol=1e-7)"
   ]
  },
  {
   "cell_type": "code",
   "execution_count": 19,
   "metadata": {},
   "outputs": [
    {
     "data": {
      "text/plain": [
       "tensor([[[[-2.5480e-02, -1.3887e-02,  1.4789e-03,  ..., -7.8070e-03,\n",
       "           -4.8462e-04, -4.9185e-03],\n",
       "          [-6.2022e-03, -1.3968e-02,  5.4148e-03,  ..., -8.9793e-03,\n",
       "            7.3712e-03, -3.5074e-03],\n",
       "          [-1.8651e-04,  1.5554e-02,  5.5393e-03,  ..., -5.6418e-03,\n",
       "           -8.1352e-03, -7.4206e-04],\n",
       "          ...,\n",
       "          [-4.7267e-03, -9.9431e-03,  2.6837e-03,  ..., -1.4578e-03,\n",
       "           -2.2126e-03,  1.5401e-03],\n",
       "          [-2.4177e-03,  1.7494e-02, -1.0021e-02,  ...,  5.4699e-04,\n",
       "           -1.6151e-02,  6.4162e-03],\n",
       "          [ 9.1218e-03,  1.2980e-02, -1.0249e-02,  ...,  7.8133e-03,\n",
       "           -2.5057e-03, -1.4567e-03]],\n",
       "\n",
       "         [[ 1.2639e-02,  1.8562e-02,  4.2988e-03,  ..., -1.5730e-02,\n",
       "           -8.2692e-03, -8.4708e-03],\n",
       "          [-8.3353e-03,  1.1715e-02,  7.1347e-03,  ...,  1.1044e-02,\n",
       "           -7.9678e-03,  1.3759e-02],\n",
       "          [-7.7013e-03, -8.6363e-03,  3.7618e-03,  ..., -3.9473e-03,\n",
       "            1.3188e-02, -7.1425e-04],\n",
       "          ...,\n",
       "          [-1.9311e-03,  3.9763e-03,  2.4042e-03,  ...,  8.9212e-05,\n",
       "           -3.7390e-03, -8.8667e-04],\n",
       "          [ 5.5031e-03, -1.3750e-02, -1.3628e-03,  ..., -3.1074e-03,\n",
       "            9.8134e-03,  3.3524e-04],\n",
       "          [-1.4326e-04, -9.6007e-03, -4.7823e-03,  ..., -2.3983e-03,\n",
       "            6.8618e-03,  1.5871e-02]],\n",
       "\n",
       "         [[ 1.3343e-02,  2.3478e-02,  9.8910e-03,  ...,  1.0088e-02,\n",
       "            2.3123e-02, -2.1516e-02],\n",
       "          [ 2.9440e-03,  2.4320e-03,  3.6329e-03,  ...,  1.6227e-03,\n",
       "            5.0241e-03, -1.5214e-02],\n",
       "          [-6.9758e-04, -4.1114e-03,  1.0196e-03,  ...,  9.3591e-03,\n",
       "            1.7585e-03,  4.8597e-03],\n",
       "          ...,\n",
       "          [ 2.8619e-03, -1.6279e-03,  1.1973e-03,  ..., -4.8796e-03,\n",
       "            4.9611e-03, -3.3677e-03],\n",
       "          [-1.1372e-02,  3.1615e-03, -8.8905e-03,  ...,  1.9166e-02,\n",
       "            4.2285e-03,  9.1138e-03],\n",
       "          [-1.9423e-02,  3.4152e-03, -6.4592e-03,  ...,  1.3132e-02,\n",
       "           -9.6576e-03,  3.5017e-03]],\n",
       "\n",
       "         ...,\n",
       "\n",
       "         [[ 2.3753e-02, -1.8403e-03, -1.1878e-02,  ..., -1.8598e-02,\n",
       "            1.1105e-02,  1.9506e-02],\n",
       "          [ 1.4905e-02, -3.2581e-03, -6.0223e-03,  ..., -4.7076e-03,\n",
       "           -1.0054e-03, -4.2219e-04],\n",
       "          [-2.1942e-02,  1.1555e-02,  1.1976e-02,  ..., -5.3721e-03,\n",
       "           -2.2441e-02, -5.4345e-03],\n",
       "          ...,\n",
       "          [ 7.8406e-03,  1.3026e-03, -8.5513e-03,  ..., -1.9006e-03,\n",
       "            3.3810e-04,  1.1267e-03],\n",
       "          [-2.6343e-02,  1.9005e-02,  1.6595e-02,  ...,  6.2092e-03,\n",
       "           -1.7618e-02, -4.7919e-03],\n",
       "          [-1.7015e-02,  4.3346e-03,  1.9031e-02,  ...,  5.1226e-03,\n",
       "           -1.2678e-02, -5.4355e-03]],\n",
       "\n",
       "         [[ 1.3705e-04, -3.5369e-03, -2.0703e-02,  ..., -2.9440e-03,\n",
       "            4.9040e-03,  1.5676e-02],\n",
       "          [-7.2724e-03,  1.2183e-02, -9.2749e-03,  ..., -6.8282e-03,\n",
       "            6.7818e-03, -8.9003e-03],\n",
       "          [ 1.7146e-02, -1.7118e-02, -4.0281e-03,  ..., -2.5991e-03,\n",
       "           -5.2079e-03, -6.8319e-03],\n",
       "          ...,\n",
       "          [-7.1260e-04,  4.1143e-03, -4.9229e-03,  ...,  1.3580e-03,\n",
       "            2.0744e-03, -8.9275e-04],\n",
       "          [ 6.7322e-03, -6.9877e-03,  1.8695e-05,  ..., -4.3997e-03,\n",
       "           -7.8060e-03,  7.6716e-03],\n",
       "          [ 3.1760e-05,  1.5725e-03,  1.3933e-02,  ..., -4.9083e-03,\n",
       "            1.0407e-03,  1.1860e-03]],\n",
       "\n",
       "         [[ 1.2513e-02, -1.0080e-02, -3.1283e-02,  ..., -2.7800e-04,\n",
       "           -1.4610e-02, -1.3880e-02],\n",
       "          [ 3.2442e-03, -3.8379e-03, -1.4176e-02,  ..., -4.0023e-03,\n",
       "            2.5828e-03,  1.1254e-02],\n",
       "          [-1.8609e-02, -6.4199e-03,  3.1160e-03,  ..., -4.9593e-03,\n",
       "           -7.6880e-03, -5.7194e-03],\n",
       "          ...,\n",
       "          [-1.7555e-03,  1.5825e-03, -2.8105e-03,  ..., -1.2297e-02,\n",
       "           -7.3450e-03,  1.4644e-03],\n",
       "          [-1.2171e-02, -1.2281e-02,  3.0057e-03,  ..., -2.3745e-05,\n",
       "           -4.6167e-03, -2.0796e-03],\n",
       "          [ 5.5543e-03,  1.0866e-03,  2.0515e-02,  ...,  1.5534e-02,\n",
       "            1.6795e-02, -4.1463e-04]]]], device='cuda:0')"
      ]
     },
     "execution_count": 19,
     "metadata": {},
     "output_type": "execute_result"
    }
   ],
   "source": [
    "d"
   ]
  },
  {
   "cell_type": "code",
   "execution_count": 16,
   "metadata": {},
   "outputs": [
    {
     "data": {
      "text/plain": [
       "tensor([[[[True, True, True,  ..., True, True, True],\n",
       "          [True, True, True,  ..., True, True, True],\n",
       "          [True, True, True,  ..., True, True, True],\n",
       "          ...,\n",
       "          [True, True, True,  ..., True, True, True],\n",
       "          [True, True, True,  ..., True, True, True],\n",
       "          [True, True, True,  ..., True, True, True]],\n",
       "\n",
       "         [[True, True, True,  ..., True, True, True],\n",
       "          [True, True, True,  ..., True, True, True],\n",
       "          [True, True, True,  ..., True, True, True],\n",
       "          ...,\n",
       "          [True, True, True,  ..., True, True, True],\n",
       "          [True, True, True,  ..., True, True, True],\n",
       "          [True, True, True,  ..., True, True, True]],\n",
       "\n",
       "         [[True, True, True,  ..., True, True, True],\n",
       "          [True, True, True,  ..., True, True, True],\n",
       "          [True, True, True,  ..., True, True, True],\n",
       "          ...,\n",
       "          [True, True, True,  ..., True, True, True],\n",
       "          [True, True, True,  ..., True, True, True],\n",
       "          [True, True, True,  ..., True, True, True]],\n",
       "\n",
       "         ...,\n",
       "\n",
       "         [[True, True, True,  ..., True, True, True],\n",
       "          [True, True, True,  ..., True, True, True],\n",
       "          [True, True, True,  ..., True, True, True],\n",
       "          ...,\n",
       "          [True, True, True,  ..., True, True, True],\n",
       "          [True, True, True,  ..., True, True, True],\n",
       "          [True, True, True,  ..., True, True, True]],\n",
       "\n",
       "         [[True, True, True,  ..., True, True, True],\n",
       "          [True, True, True,  ..., True, True, True],\n",
       "          [True, True, True,  ..., True, True, True],\n",
       "          ...,\n",
       "          [True, True, True,  ..., True, True, True],\n",
       "          [True, True, True,  ..., True, True, True],\n",
       "          [True, True, True,  ..., True, True, True]],\n",
       "\n",
       "         [[True, True, True,  ..., True, True, True],\n",
       "          [True, True, True,  ..., True, True, True],\n",
       "          [True, True, True,  ..., True, True, True],\n",
       "          ...,\n",
       "          [True, True, True,  ..., True, True, True],\n",
       "          [True, True, True,  ..., True, True, True],\n",
       "          [True, True, True,  ..., True, True, True]]]], device='cuda:0')"
      ]
     },
     "execution_count": 16,
     "metadata": {},
     "output_type": "execute_result"
    }
   ],
   "source": [
    "c =a.permute(0, 1, 3, 2).reshape(1, 4096, -1)\n",
    "b= c.view(1,32,128,-1).permute(0, 1, 3, 2)\n",
    "a==b"
   ]
  },
  {
   "cell_type": "code",
   "execution_count": 6,
   "metadata": {},
   "outputs": [],
   "source": [
    "init_cache = tuple_to_list(SYS_L0_CACHE)\n",
    "re_cache = tuple_to_list(main_kv)"
   ]
  },
  {
   "cell_type": "code",
   "execution_count": 54,
   "metadata": {},
   "outputs": [
    {
     "data": {
      "text/plain": [
       "torch.Size([1, 32, 8, 128])"
      ]
     },
     "execution_count": 54,
     "metadata": {},
     "output_type": "execute_result"
    }
   ],
   "source": [
    "res =init_cache[0][1]-SYS_BASE_CACHE[0][1]\n",
    "res.shape"
   ]
  },
  {
   "cell_type": "code",
   "execution_count": 57,
   "metadata": {},
   "outputs": [
    {
     "data": {
      "text/plain": [
       "torch.Size([1, 32, 8, 128])"
      ]
     },
     "execution_count": 57,
     "metadata": {},
     "output_type": "execute_result"
    }
   ],
   "source": [
    "X = res.permute(0, 1, 3, 2).reshape(1, 4096, -1)\n",
    "y =W_B[0]@ W_inverB[0]@X\n",
    "y = y.view(1, 32, 128, -1).permute(0, 1, 3, 2) \n",
    "y.shape"
   ]
  },
  {
   "cell_type": "code",
   "execution_count": null,
   "metadata": {},
   "outputs": [
    {
     "data": {
      "text/plain": [
       "True"
      ]
     },
     "execution_count": 13,
     "metadata": {},
     "output_type": "execute_result"
    }
   ],
   "source": [
    "torch.allclose(W_B[0].to(torch.float32), W_B[0].to(torch.float32)@W_inverB[0].to(torch.float32)@W_B[0].to(torch.float32),atol=1e-7)"
   ]
  },
  {
   "cell_type": "code",
   "execution_count": null,
   "metadata": {},
   "outputs": [
    {
     "data": {
      "text/plain": [
       "False"
      ]
     },
     "execution_count": 60,
     "metadata": {},
     "output_type": "execute_result"
    }
   ],
   "source": [
    "# init_cache[0][1]==y\n",
    "torch.allclose(init_cache[0][1],y,atol=1e-4)"
   ]
  },
  {
   "cell_type": "code",
   "execution_count": 38,
   "metadata": {},
   "outputs": [
    {
     "name": "stdout",
     "output_type": "stream",
     "text": [
      "变换成功！\n",
      "初始形状: torch.Size([1, 32, 8, 128])\n",
      "中间形状: torch.Size([1, 4096, 8])\n",
      "恢复形状: torch.Size([1, 32, 8, 128])\n"
     ]
    }
   ],
   "source": [
    "a = torch.randn(1, 32, 8, 128)  # 形状 [1, 32, 8, 128]\n",
    "\n",
    "# Step 1: 变换 [1, 32, 8, 128] -> [1, 4096, 8]\n",
    "b = a.permute(0, 1, 3, 2).reshape(1, 4096, 8)  # 合并 32 和 128\n",
    "\n",
    "# Step 2: 恢复 [1, 4096, 8] -> [1, 32, 8, 128]\n",
    "c = b.view(1, 32, 128, 8).permute(0, 1, 3, 2)  # 拆分 4096 回 32 和 128\n",
    "\n",
    "# 验证恢复是否成功\n",
    "assert torch.equal(a, c), \"恢复后的张量与原始张量不相等！\"\n",
    "\n",
    "print(\"变换成功！\")\n",
    "print(\"初始形状:\", a.shape)  # 输出: [1, 32, 8, 128]\n",
    "print(\"中间形状:\", b.shape)  # 输出: [1, 4096, 8]\n",
    "print(\"恢复形状:\", c.shape)  # 输出: [1, 32, 8, 128]"
   ]
  }
 ],
 "metadata": {
  "kernelspec": {
   "display_name": "Python 3",
   "language": "python",
   "name": "python3"
  },
  "language_info": {
   "codemirror_mode": {
    "name": "ipython",
    "version": 3
   },
   "file_extension": ".py",
   "mimetype": "text/x-python",
   "name": "python",
   "nbconvert_exporter": "python",
   "pygments_lexer": "ipython3",
   "version": "3.10.13"
  }
 },
 "nbformat": 4,
 "nbformat_minor": 2
}
